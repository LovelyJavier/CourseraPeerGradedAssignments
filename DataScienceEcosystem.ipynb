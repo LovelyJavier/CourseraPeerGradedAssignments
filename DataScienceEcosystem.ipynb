{
 "cells": [
  {
   "cell_type": "markdown",
   "id": "abf32a30-2abd-41bd-a112-e6d8bd3270a4",
   "metadata": {},
   "source": [
    "# Data Science Tools and Ecosystem"
   ]
  },
  {
   "cell_type": "markdown",
   "id": "910258cb-7c9a-43d3-bd0d-697e7447fc94",
   "metadata": {},
   "source": [
    "In this notebook, Data Science Tools and Ecosystem are summarized."
   ]
  },
  {
   "cell_type": "markdown",
   "id": "eb5b3415-b9a9-43cc-9769-baf071c5c4b6",
   "metadata": {},
   "source": [
    "***Objectives:***\n",
    "- List popular languages for data science\n",
    "- List commonly used libraries used by data scientists\n",
    "- List data science tools\n",
    "- Show examples on how to evaluate arithmetic expressions in Python"
   ]
  },
  {
   "cell_type": "markdown",
   "id": "b578614d-43cd-4bf0-8db0-2cf967e50801",
   "metadata": {},
   "source": [
    "Some of the popular languages that Data Scientists use are:\n",
    "1. R\n",
    "2. Python\n",
    "3. Java\n",
    "4. C++\n",
    "5. SQL\n",
    "6. Julia\n",
    "7. MATLAB\n",
    "8. JavaScript\n",
    "9. Scala"
   ]
  },
  {
   "cell_type": "markdown",
   "id": "41879088-bd2f-40d2-acb8-af699e76809c",
   "metadata": {},
   "source": [
    "Some of the commonly used libraries used by Data Scientists include:\n",
    "\n",
    "1. Pandas\n",
    "2. TensorFlow\n",
    "3. Scikit-learn\n",
    "4. Pytorch\n",
    "5. Numpy"
   ]
  },
  {
   "cell_type": "markdown",
   "id": "4c055181-520a-4629-bdcc-ccedf0b6516f",
   "metadata": {},
   "source": [
    "|Data Science Tools|\n",
    "|------------------|\n",
    "|Jupyter Notebook|\n",
    "|RStudio|\n",
    "|GitHub|"
   ]
  },
  {
   "cell_type": "markdown",
   "id": "bafdaec5-4970-435b-8171-90f51b745ec2",
   "metadata": {},
   "source": [
    "### Below are few examples of evaluating arithmetic expressions in Python"
   ]
  },
  {
   "cell_type": "code",
   "execution_count": 13,
   "id": "e6760923-03e0-4679-a1fe-db155069ae14",
   "metadata": {},
   "outputs": [
    {
     "data": {
      "text/plain": [
       "17"
      ]
     },
     "execution_count": 13,
     "metadata": {},
     "output_type": "execute_result"
    }
   ],
   "source": [
    "# This is a simple arithmetic expression to multiply then add intergers\n",
    "(3*4)+5"
   ]
  },
  {
   "cell_type": "code",
   "execution_count": 14,
   "id": "c65d6beb-962a-475d-bc0b-a0986fe3d922",
   "metadata": {},
   "outputs": [
    {
     "data": {
      "text/plain": [
       "3.3333333333333335"
      ]
     },
     "execution_count": 14,
     "metadata": {},
     "output_type": "execute_result"
    }
   ],
   "source": [
    "#This will convert 200 minutes to hours by dividing by 60\n",
    "200/60"
   ]
  },
  {
   "cell_type": "markdown",
   "id": "5b707bed-2bd7-4072-8000-a115be8d5462",
   "metadata": {},
   "source": [
    "## Author\n",
    "Creslyn Gayle C. Javier"
   ]
  }
 ],
 "metadata": {
  "kernelspec": {
   "display_name": "Python 3 (ipykernel)",
   "language": "python",
   "name": "python3"
  },
  "language_info": {
   "codemirror_mode": {
    "name": "ipython",
    "version": 3
   },
   "file_extension": ".py",
   "mimetype": "text/x-python",
   "name": "python",
   "nbconvert_exporter": "python",
   "pygments_lexer": "ipython3",
   "version": "3.11.7"
  },
  "widgets": {
   "application/vnd.jupyter.widget-state+json": {
    "state": {},
    "version_major": 2,
    "version_minor": 0
   }
  }
 },
 "nbformat": 4,
 "nbformat_minor": 5
}
